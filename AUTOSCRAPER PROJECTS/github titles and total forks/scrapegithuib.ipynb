{
 "cells": [
  {
   "cell_type": "code",
   "execution_count": 9,
   "metadata": {},
   "outputs": [
    {
     "name": "stdout",
     "output_type": "stream",
     "text": [
      "['150', '1', '2', '3', '8', '4', '208', 'zspotify', 'Footsiefat', 'Minecraft-Server-Scanner', 'footsiefat.github.io', 'Skeelog', 'SuperUser', 'librespot-python', 'Openbooks-Downloader', 'Devarite', 'Tiresias_Backend', 'Tiresias_mail_client', 'byeintegrity-lite', 'widevine-l3-decryptor', 'OFFLINE_SCP_WIKI', 'Footsiefat-OpenDirectoryIndexTool']\n"
     ]
    }
   ],
   "source": [
    "#first instal autoscraper\n",
    "\n",
    "from autoscraper import AutoScraper\n",
    "url = \"https://github.com/Footsiefat?tab=repositories\"\n",
    "wanted_list = [\"150\", \"zspotify\"]\n",
    "scraper = AutoScraper()\n",
    "results = scraper.build(url,wanted_list)\n",
    "print(results)"
   ]
  },
  {
   "cell_type": "code",
   "execution_count": 11,
   "metadata": {},
   "outputs": [
    {
     "data": {
      "text/plain": [
       "{'rule_37bc': ['150',\n",
       "  '1',\n",
       "  '1',\n",
       "  '2',\n",
       "  '3',\n",
       "  '8',\n",
       "  '2',\n",
       "  '2',\n",
       "  '2',\n",
       "  '1',\n",
       "  '4',\n",
       "  '208',\n",
       "  '1'],\n",
       " 'rule_36of': ['zspotify',\n",
       "  'Footsiefat',\n",
       "  'Minecraft-Server-Scanner',\n",
       "  'footsiefat.github.io',\n",
       "  'Skeelog',\n",
       "  'SuperUser',\n",
       "  'librespot-python',\n",
       "  'Openbooks-Downloader',\n",
       "  'Devarite',\n",
       "  'Tiresias_Backend',\n",
       "  'Tiresias_mail_client',\n",
       "  'byeintegrity-lite',\n",
       "  'widevine-l3-decryptor',\n",
       "  'OFFLINE_SCP_WIKI',\n",
       "  'Footsiefat-OpenDirectoryIndexTool']}"
      ]
     },
     "execution_count": 11,
     "metadata": {},
     "output_type": "execute_result"
    }
   ],
   "source": [
    "#use this to see the rule IDs of the data\n",
    "scraper.get_result_similar(\"https://github.com/Footsiefat?tab=repositories\", grouped=True)"
   ]
  },
  {
   "cell_type": "code",
   "execution_count": 12,
   "metadata": {},
   "outputs": [],
   "source": [
    "#set rules so that when another similar data is loaded, the model will remember the rules.\n",
    "\n",
    "scraper.set_rule_aliases({'rule_37bc': 'Forks', 'rule_36of': 'Titles'})\n",
    "scraper.keep_rules(['rule_37bc', 'rule_36of'])\n",
    "scraper.save('git-search')\n"
   ]
  },
  {
   "cell_type": "code",
   "execution_count": 14,
   "metadata": {},
   "outputs": [
    {
     "name": "stdout",
     "output_type": "stream",
     "text": [
      "{'Forks': ['161', '893', '159', '7', '5', '12', '3', '17', '50', '1', '39', '1', '1', '21', '1', '23', '14', '264', '55', '2', '4', '13', '1', '13', '1', '1', '1', '398', '43', '2'], 'Titles': ['ArchTitus', 'win10script', 'ArchMatic', 'TitusPi', 'Linux-MacOS-GNOME', 'website', 'courier-netlify-twitch', 'windows-lite-1903', 'titus-awesome', 'thousandaire', 'wallpaper-reddit', 'BSPWM-on-KDE', 'create-bsc-token', 'titus-conky', 'rocky-install', 'windows10-checkup', 'Top-5-Bootloader-Themes', 'material-awesome', 'firewallsetup', 'gimphelp', 'win10-fixtimers', 'windows-lite-2004', 'Fix-Network-Dives-Win10', 'Workarounds-for-ARM-mac', 'titus-live', 'Windows-10-UTC', 'CrowPi-blackscreen-fix', 'PiShrink', 'zsh', 'OpenCore-Intell9400-RX580']}\n"
     ]
    }
   ],
   "source": [
    "#load the data and use the data to get simialr data from another website\n",
    "scraper.load('git-search')\n",
    "\n",
    "#print other results of other gitbub repos\n",
    "other_results= scraper.get_result_similar(\"https://github.com/ChrisTitusTech?tab=repositories\",group_by_alias=True)\n",
    "print(other_results)\n",
    "\n",
    "#import pandas library to save the fuile as csv.\n",
    "import pandas as pd\n",
    "df= pd.DataFrame(other_results)\n",
    "df.to_csv('try.csv')\n"
   ]
  },
  {
   "cell_type": "code",
   "execution_count": null,
   "metadata": {},
   "outputs": [],
   "source": []
  }
 ],
 "metadata": {
  "kernelspec": {
   "display_name": "Python 3",
   "language": "python",
   "name": "python3"
  },
  "language_info": {
   "codemirror_mode": {
    "name": "ipython",
    "version": 3
   },
   "file_extension": ".py",
   "mimetype": "text/x-python",
   "name": "python",
   "nbconvert_exporter": "python",
   "pygments_lexer": "ipython3",
   "version": "3.7.3"
  }
 },
 "nbformat": 4,
 "nbformat_minor": 2
}
