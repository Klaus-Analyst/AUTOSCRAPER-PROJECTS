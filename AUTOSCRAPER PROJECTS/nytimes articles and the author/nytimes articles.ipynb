{
 "cells": [
  {
   "cell_type": "code",
   "execution_count": 11,
   "metadata": {},
   "outputs": [
    {
     "name": "stdout",
     "output_type": "stream",
     "text": [
      "['The World ‘Has Found a Way to Do This’: The U.S. Lags on Paid Leave', 'Russia Challenges Biden Again With Broad Cybersurveillance Operation', 'Biden Meets With Manchin and Schumer as Democrats Race to Finish Social Policy Bill', 'Streets Flood as 2 Storms Converge in Northern California', 'A C.I.A. Fighter, a Somali Bomb Maker, and a Faltering Shadow War', 'Where Facts Were No Match for Fear', 'Letitia James Isn’t Saying Whether She’s Running for Governor. But She Is Hiring.', 'U.S. Struggles With Afghan Evacuees Weeded Out, and Now in Limbo', 'Biden the Dealmaker Finds That Compromise Can Have Consequences', 'The Pessimistic Electorate Behind Biden’s Approval Ratings', 'By Claire Cain Miller', 'By David E. Sanger', 'By Catie Edmondson and Emily Cochrane', 'By The New York Times', 'By Declan Walsh, Eric Schmitt, Julian E. Barnes and Tyler Hicks', 'By Reid J. Epstein', 'By Katie Glueck', 'By Charlie Savage', 'By Michael D. Shear', 'By Nate Cohn']\n"
     ]
    }
   ],
   "source": [
    "from autoscraper import AutoScraper\n",
    "url= \"https://www.nytimes.com/international/section/politics\"\n",
    "\n",
    "scraper = AutoScraper()\n",
    "wanted_list = ['Russia Challenges Biden Again With Broad Cybersurveillance Operation', 'By David E. Sanger',]\n",
    "results= scraper.build(url, wanted_list)\n",
    "print(results)\n"
   ]
  },
  {
   "cell_type": "code",
   "execution_count": 12,
   "metadata": {},
   "outputs": [
    {
     "data": {
      "text/plain": [
       "{'rule_9y6x': ['The World ‘Has Found a Way to Do This’: The U.S. Lags on Paid Leave',\n",
       "  'Russia Challenges Biden Again With Broad Cybersurveillance Operation',\n",
       "  'Biden Meets With Manchin and Schumer as Democrats Race to Finish Social Policy Bill',\n",
       "  'Streets Flood as 2 Storms Converge in Northern California',\n",
       "  'A C.I.A. Fighter, a Somali Bomb Maker, and a Faltering Shadow War',\n",
       "  'Where Facts Were No Match for Fear',\n",
       "  'Letitia James Isn’t Saying Whether She’s Running for Governor. But She Is Hiring.',\n",
       "  'U.S. Struggles With Afghan Evacuees Weeded Out, and Now in Limbo',\n",
       "  'Biden the Dealmaker Finds That Compromise Can Have Consequences',\n",
       "  'The Pessimistic Electorate Behind Biden’s Approval Ratings'],\n",
       " 'rule_bh51': ['Russia Challenges Biden Again With Broad Cybersurveillance Operation',\n",
       "  'Where Facts Were No Match for Fear'],\n",
       " 'rule_8tz8': ['By Claire Cain Miller',\n",
       "  'By David E. Sanger',\n",
       "  'By Catie Edmondson and Emily Cochrane',\n",
       "  'By The New York Times',\n",
       "  'By Declan Walsh, Eric Schmitt, Julian E. Barnes and Tyler Hicks',\n",
       "  'By Reid J. Epstein',\n",
       "  'By Katie Glueck',\n",
       "  'By Charlie Savage',\n",
       "  'By Michael D. Shear',\n",
       "  'By Nate Cohn'],\n",
       " 'rule_lodu': ['By David E. Sanger', 'By Reid J. Epstein']}"
      ]
     },
     "execution_count": 12,
     "metadata": {},
     "output_type": "execute_result"
    }
   ],
   "source": [
    "scraper.get_result_similar(\"https://www.nytimes.com/international/section/politics\",grouped=True)"
   ]
  },
  {
   "cell_type": "code",
   "execution_count": 13,
   "metadata": {},
   "outputs": [],
   "source": [
    "scraper.set_rule_aliases({'rule_9y6x': 'Article Title', 'rule_8tz8': 'Author'})\n",
    "scraper.keep_rules(['rule_9y6x','rule_8tz8'])\n",
    "scraper.save('nytimes')"
   ]
  },
  {
   "cell_type": "code",
   "execution_count": 17,
   "metadata": {},
   "outputs": [
    {
     "name": "stdout",
     "output_type": "stream",
     "text": [
      "{'Article Title': ['Hertz places an order for 100,000 Tesla vehicles.', 'The New Billionaire Tax in Democrats’ Sights', 'The Facebook Papers and their fallout.', 'Facebook Wrestles With the Features It Used to Define Social Networking', 'Frances Haugen, the Facebook whistle-blower, testifies in Parliament.', 'Are Vaccine Boosters Widely Needed? Some Federal Advisers Have Misgivings.', 'The World ‘Has Found a Way to Do This’: The U.S. Lags on Paid Leave', 'PayPal says it isn’t interested in pursuing Pinterest.', 'The Week in Business: A Consumer Internet Deal', 'I Was Hacked. The Spyware Used Against Me Makes Us All Vulnerable.'], 'Author': ['By Niraj Chokshi', 'By Andrew Ross Sorkin, Sarah Kessler, Stephen Gandel, Michael J. de la Merced, Lauren Hirsch and Ephrat Livni', 'By The New York Times', 'By Mike Isaac', 'By Adam Satariano', 'By Apoorva Mandavilli', 'By Claire Cain Miller', 'By Michael J. de la Merced', 'By Sarah Kessler', 'By Ben Hubbard']}\n"
     ]
    }
   ],
   "source": [
    "scraper.load('nytimes')\n",
    "other_results= scraper.get_result_similar(\"https://www.nytimes.com/international/section/business\",group_by_alias=True)\n",
    "print (other_results)\n",
    "\n",
    "import pandas as pd\n",
    "df = pd.DataFrame(other_results)\n",
    "df.to_csv(\"nytimes data.csv\")"
   ]
  },
  {
   "cell_type": "code",
   "execution_count": null,
   "metadata": {},
   "outputs": [],
   "source": []
  }
 ],
 "metadata": {
  "kernelspec": {
   "display_name": "Python 3",
   "language": "python",
   "name": "python3"
  },
  "language_info": {
   "codemirror_mode": {
    "name": "ipython",
    "version": 3
   },
   "file_extension": ".py",
   "mimetype": "text/x-python",
   "name": "python",
   "nbconvert_exporter": "python",
   "pygments_lexer": "ipython3",
   "version": "3.7.3"
  }
 },
 "nbformat": 4,
 "nbformat_minor": 2
}
